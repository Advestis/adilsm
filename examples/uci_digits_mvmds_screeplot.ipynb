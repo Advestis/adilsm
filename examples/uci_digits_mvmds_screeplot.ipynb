{
 "cells": [
  {
   "cell_type": "code",
   "execution_count": 1,
   "metadata": {},
   "outputs": [
    {
     "name": "stdout",
     "output_type": "stream",
     "text": [
      "adilsm version=0.0.12\n"
     ]
    }
   ],
   "source": [
    "from adnmtf import NMF, NTF\n",
    "import pandas as pd\n",
    "import numpy as np\n",
    "from IPython.display import clear_output\n",
    "import time\n",
    "from wordcloud import WordCloud, ImageColorGenerator\n",
    "import matplotlib.pyplot as plt\n",
    "import matplotlib.image as image\n",
    "from matplotlib.colors import ListedColormap\n",
    "import matplotlib.patches as mpatches\n",
    "import distinctipy\n",
    "from matplotlib.patches import Ellipse\n",
    "import matplotlib.transforms as transforms\n",
    "\n",
    "import sys\n",
    "import networkx as nx\n",
    "\n",
    "from sklearn.preprocessing import normalize\n",
    "from sklearn import metrics\n",
    "\n",
    "from mvlearn.datasets import load_UCImultifeature\n",
    "from mvlearn.embed import MVMDS\n",
    "import seaborn as sns\n",
    "from sklearn.decomposition import PCA\n",
    "from sklearn.manifold import MDS\n",
    "from sklearn.cluster import KMeans\n",
    "import umap\n",
    "from scipy.spatial import distance_matrix\n",
    "import hoggorm as ho\n",
    "import adilsm.adilsm as ilsm\n",
    "from sklearn.metrics.cluster import rand_score\n",
    "from sklearn.preprocessing import StandardScaler\n"
   ]
  },
  {
   "cell_type": "markdown",
   "metadata": {},
   "source": [
    "Data prep"
   ]
  },
  {
   "cell_type": "code",
   "execution_count": 2,
   "metadata": {},
   "outputs": [
    {
     "name": "stdout",
     "output_type": "stream",
     "text": [
      "There are 6 views.\n",
      "There are 2000 observations\n",
      "The feature sizes are: [76, 216, 64, 240, 47, 6]\n"
     ]
    }
   ],
   "source": [
    "###############################################################################\n",
    "# Load Data\n",
    "# ---------\n",
    "# Data comes from UCI Digits Data. Contains 6 views and classifications of\n",
    "# numbers 0-9\n",
    "\n",
    "Xs, list_digits = load_UCImultifeature()\n",
    "\n",
    "sample_rate = 1\n",
    "\n",
    "if sample_rate < 1:\n",
    "    num_rows = list_digits.shape[0]\n",
    "    num_rows_to_select = int(num_rows * sample_rate)\n",
    "    selected_rows = np.random.choice(num_rows, num_rows_to_select, replace=False)\n",
    "\n",
    "    for i in range(len(Xs)):\n",
    "        Xs[i] = Xs[i][selected_rows]\n",
    "\n",
    "    list_digits = list_digits[selected_rows]\n",
    "\n",
    "list_cell_codes, list_cell_types = pd.factorize(list_digits)\n",
    "\n",
    "# Check data\n",
    "print(f'There are {len(Xs)} views.')\n",
    "print(f'There are {Xs[0].shape[0]} observations')\n",
    "print(f'The feature sizes are: {[X.shape[1] for X in Xs]}')\n"
   ]
  },
  {
   "cell_type": "code",
   "execution_count": 3,
   "metadata": {},
   "outputs": [],
   "source": [
    "Xs_norm = Xs.copy()\n",
    "scaler = StandardScaler()\n",
    "for i in range(len(Xs)):\n",
    "    Xs_norm[i] = Xs[i] - np.mean(Xs[i], axis=0)\n",
    "    Xs_norm[i] = scaler.fit_transform(Xs_norm[i])"
   ]
  },
  {
   "cell_type": "code",
   "execution_count": 4,
   "metadata": {},
   "outputs": [],
   "source": [
    "mvmds = MVMDS(n_components=16)\n",
    "Xs_mvmds_reduced = mvmds.fit_transform(Xs)"
   ]
  },
  {
   "cell_type": "code",
   "execution_count": 5,
   "metadata": {},
   "outputs": [
    {
     "name": "stdout",
     "output_type": "stream",
     "text": [
      "[ 5044781.8612027   7944222.32409934 12568748.05447858 13366678.6347922\n",
      " 14098489.67788737 14605600.54982345 14799708.65795875 14892973.51596771\n",
      " 14954847.57334482 14987699.70407477 15019119.01472625 15044878.81515035\n",
      " 15057565.31688737 15067358.69493423 15079793.61560008 15090013.68605973]\n"
     ]
    }
   ],
   "source": [
    "Xs_concat = Xs[0]\n",
    "for X in Xs[1:]:\n",
    "    Xs_concat = np.hstack((Xs_concat, X))\n",
    "\n",
    "p = Xs_concat.shape[1]\n",
    "variance_explained = np.zeros(16)\n",
    "\n",
    "for k in range(16):\n",
    "    variance = 0\n",
    "    for i in range(p):\n",
    "        variance += np.var(np.dot(Xs_concat[:,i], Xs_mvmds_reduced[:,k])*Xs_mvmds_reduced[:,k])\n",
    "\n",
    "    if k==0:\n",
    "        variance_explained[k] = variance\n",
    "    else:    \n",
    "        variance_explained[k] = variance_explained[k-1]+variance\n",
    "\n",
    "print(variance_explained)"
   ]
  },
  {
   "cell_type": "markdown",
   "metadata": {},
   "source": [
    "Figures"
   ]
  },
  {
   "cell_type": "code",
   "execution_count": 16,
   "metadata": {},
   "outputs": [
    {
     "data": {
      "image/png": "[encoded data removed]",
      "text/plain": [
       "<Figure size 640x480 with 1 Axes>"
      ]
     },
     "metadata": {},
     "output_type": "display_data"
    }
   ],
   "source": [
    "# Plot the scree plot\n",
    "plt.plot (np.arange(5,17), variance_explained[4:], 'o-', linewidth=2, color='blue')\n",
    "plt.xlabel ('Principal Component')\n",
    "plt.ylabel ('Variance Explained')\n",
    "plt.title ('Scree Plot')\n",
    "plt.grid ()\n",
    "plt.show ()"
   ]
  },
  {
   "cell_type": "code",
   "execution_count": null,
   "metadata": {},
   "outputs": [],
   "source": []
  }
 ],
 "metadata": {
  "kernelspec": {
   "display_name": "Python 3 (ipykernel)",
   "language": "python",
   "name": "python3"
  },
  "language_info": {
   "codemirror_mode": {
    "name": "ipython",
    "version": 3
   },
   "file_extension": ".py",
   "mimetype": "text/x-python",
   "name": "python",
   "nbconvert_exporter": "python",
   "pygments_lexer": "ipython3",
   "version": "3.9.0"
  }
 },
 "nbformat": 4,
 "nbformat_minor": 4
}
