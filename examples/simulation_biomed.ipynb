{
 "cells": [
  {
   "cell_type": "code",
   "execution_count": null,
   "metadata": {},
   "outputs": [],
   "source": [
    "!pip install mvlearn==0.5.0 wordcloud==1.9.3 matplotlib==3.3.4 distinctipy==1.3.4 networkx==3.2.1  umap==0.1.1 hoggorm==0.13.3 adilsm==0.0.7 scipy==1.9.1\n",
    "# !pip install mvlearn==0.5.0 wordcloud==1.9.3 matplotlib==3.3.4 distinctipy==1.3.4 networkx==3.2.1  umap==0.1.1 hoggorm==0.13.3 adilsm==0.0.7 scipy==1.12.0\n",
    "\n",
    "# scipy==1.12.0 not used (due to changes in SVDS) to reproduce presented results in ref paper"
   ]
  },
  {
   "cell_type": "code",
   "execution_count": 1,
   "metadata": {},
   "outputs": [
    {
     "name": "stdout",
     "output_type": "stream",
     "text": [
      "Obtaining file:///C:/Users/paul_/OneDrive/Pro/George/adilsm/adilsm/adilsm\n",
      "  Installing build dependencies: started\n",
      "  Installing build dependencies: finished with status 'done'\n",
      "  Checking if build backend supports build_editable: started\n",
      "  Checking if build backend supports build_editable: finished with status 'done'\n",
      "  Getting requirements to build editable: started\n",
      "  Getting requirements to build editable: finished with status 'done'\n",
      "  Installing backend dependencies: started\n",
      "  Installing backend dependencies: finished with status 'done'\n",
      "  Preparing editable metadata (pyproject.toml): started\n",
      "  Preparing editable metadata (pyproject.toml): finished with status 'done'\n",
      "Requirement already satisfied: adnmtf==0.1.164 in c:\\users\\paul_\\appdata\\local\\programs\\python\\python39\\lib\\site-packages (from adilsm==0.0.8) (0.1.164)\n",
      "Requirement already satisfied: scipy==1.9.1 in c:\\users\\paul_\\appdata\\local\\programs\\python\\python39\\lib\\site-packages (from adilsm==0.0.8) (1.9.1)\n",
      "Requirement already satisfied: pandas in c:\\users\\paul_\\appdata\\local\\programs\\python\\python39\\lib\\site-packages (from adnmtf==0.1.164->adilsm==0.0.8) (1.5.0)\n",
      "Requirement already satisfied: numpy in c:\\users\\paul_\\appdata\\local\\programs\\python\\python39\\lib\\site-packages (from adnmtf==0.1.164->adilsm==0.0.8) (1.23.3)\n",
      "Requirement already satisfied: scikit-learn in c:\\users\\paul_\\appdata\\local\\programs\\python\\python39\\lib\\site-packages (from adnmtf==0.1.164->adilsm==0.0.8) (1.1.2)\n",
      "Requirement already satisfied: tqdm in c:\\users\\paul_\\appdata\\local\\programs\\python\\python39\\lib\\site-packages (from adnmtf==0.1.164->adilsm==0.0.8) (4.64.1)\n",
      "Requirement already satisfied: python-dateutil>=2.8.1 in c:\\users\\paul_\\appdata\\local\\programs\\python\\python39\\lib\\site-packages (from pandas->adnmtf==0.1.164->adilsm==0.0.8) (2.8.2)\n",
      "Requirement already satisfied: pytz>=2020.1 in c:\\users\\paul_\\appdata\\local\\programs\\python\\python39\\lib\\site-packages (from pandas->adnmtf==0.1.164->adilsm==0.0.8) (2022.2.1)\n",
      "Requirement already satisfied: joblib>=1.0.0 in c:\\users\\paul_\\appdata\\local\\programs\\python\\python39\\lib\\site-packages (from scikit-learn->adnmtf==0.1.164->adilsm==0.0.8) (1.2.0)\n",
      "Requirement already satisfied: threadpoolctl>=2.0.0 in c:\\users\\paul_\\appdata\\local\\programs\\python\\python39\\lib\\site-packages (from scikit-learn->adnmtf==0.1.164->adilsm==0.0.8) (3.1.0)\n",
      "Requirement already satisfied: colorama in c:\\users\\paul_\\appdata\\local\\programs\\python\\python39\\lib\\site-packages (from tqdm->adnmtf==0.1.164->adilsm==0.0.8) (0.4.5)\n",
      "Requirement already satisfied: six>=1.5 in c:\\users\\paul_\\appdata\\local\\programs\\python\\python39\\lib\\site-packages (from python-dateutil>=2.8.1->pandas->adnmtf==0.1.164->adilsm==0.0.8) (1.16.0)\n",
      "Building wheels for collected packages: adilsm\n",
      "  Building editable for adilsm (pyproject.toml): started\n",
      "  Building editable for adilsm (pyproject.toml): finished with status 'done'\n",
      "  Created wheel for adilsm: filename=adilsm-0.0.8-0.editable-py3-none-any.whl size=4441 sha256=f1c210ae903b13597105cb7c0f0383879b386d590e550e49caa3b056f24fd087\n",
      "  Stored in directory: C:\\Users\\paul_\\AppData\\Local\\Temp\\pip-ephem-wheel-cache-tc4mbh6s\\wheels\\3a\\47\\6d\\d9b8ee8731b33c0caa17566717473dd5a3bc39ba5c98b13576\n",
      "Successfully built adilsm\n",
      "Installing collected packages: adilsm\n",
      "  Attempting uninstall: adilsm\n",
      "    Found existing installation: adilsm 0.0.8\n",
      "    Uninstalling adilsm-0.0.8:\n",
      "      Successfully uninstalled adilsm-0.0.8\n",
      "Successfully installed adilsm-0.0.8\n"
     ]
    }
   ],
   "source": [
    "!pip install -e .."
   ]
  },
  {
   "cell_type": "code",
   "execution_count": 2,
   "metadata": {},
   "outputs": [
    {
     "name": "stdout",
     "output_type": "stream",
     "text": [
      "coucou\n",
      "error ism before straightening:  0.12\n",
      "error ism after straightening:  0.16\n"
     ]
    },
    {
     "data": {
      "image/png": "[encoded data removed]",
      "text/plain": [
       "<Figure size 1000x500 with 2 Axes>"
      ]
     },
     "metadata": {},
     "output_type": "display_data"
    }
   ],
   "source": [
    "import numpy as np\n",
    "import pandas as pd\n",
    "import matplotlib.pyplot as plt\n",
    "import adilsm.adilsm as ilsm\n",
    "\n",
    "max_noise_level = 0.1\n",
    "# Generate a random non-negative matrix with 100 rows and 10 columns\n",
    "A = np.random.rand(100, 10)\n",
    "# Swap the columns of the A and add some noise to generate B\n",
    "B = np.random.permutation(A.T).T + np.random.uniform(low=0, high=max_noise_level, size=A.shape)\n",
    "# Add noise to A\n",
    "A += np.random.uniform(low=0, high=max_noise_level, size=A.shape)\n",
    "\n",
    "# ISM is expected to recognize that A and B convey the same information up to some noise,\n",
    "# albeit with the columns of B swapped around. Heatmaps of the loadings of A and B columns\n",
    "# on ISM components show the effective permutation. \n",
    "\n",
    "Xs = [A, B]\n",
    "n_embedding, n_themes = [10,10]\n",
    "\n",
    "ilsm_result = ilsm.ism(Xs, n_embedding, n_themes, norm_columns=False, update_h4_ism=True,\n",
    "                                    max_iter_mult=200, fast_mult_rules=True, sparsity_coeff=.8)\n",
    "hv = ilsm_result['HV']\n",
    "hv_sparse = ilsm_result['HV_SPARSE']\n",
    "hhii = ilsm_result['HHII']\n",
    "w_ism = ilsm_result['W']\n",
    "h_ism = ilsm_result['H']\n",
    "q_ism = ilsm_result['Q']\n",
    "Xs_emb = ilsm_result['EMBEDDING']\n",
    "Xs_norm = ilsm_result['NORMED_VIEWS']\n",
    "\n",
    "fig, ax = plt.subplots(1, 2, figsize=(10, 5), constrained_layout=True)\n",
    "ax[0].imshow(hv[0], cmap='viridis', aspect='auto')\n",
    "# Add labels and title\n",
    "ax[0].set_xlabel('Component')\n",
    "ax[0].set_ylabel('Column')\n",
    "ax[0].set_title('Loadings of A columns on ISM components')\n",
    "ax[1].imshow(hv[1], cmap='viridis', aspect='auto')\n",
    "# Add labels and title\n",
    "ax[1].set_xlabel('Component')\n",
    "ax[1].set_ylabel('Column')\n",
    "ax[1].set_title('Loadings of B columns on ISM components')\n",
    "\n",
    "# Show the plot\n",
    "plt.show()"
   ]
  },
  {
   "cell_type": "code",
   "execution_count": null,
   "metadata": {},
   "outputs": [],
   "source": []
  }
 ],
 "metadata": {
  "kernelspec": {
   "display_name": "Python 3",
   "language": "python",
   "name": "python3"
  },
  "language_info": {
   "codemirror_mode": {
    "name": "ipython",
    "version": 3
   },
   "file_extension": ".py",
   "mimetype": "text/x-python",
   "name": "python",
   "nbconvert_exporter": "python",
   "pygments_lexer": "ipython3",
   "version": "3.9.0"
  },
  "orig_nbformat": 4
 },
 "nbformat": 4,
 "nbformat_minor": 2
}
