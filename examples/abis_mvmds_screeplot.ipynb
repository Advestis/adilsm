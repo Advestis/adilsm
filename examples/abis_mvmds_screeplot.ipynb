{
 "cells": [
  {
   "cell_type": "code",
   "execution_count": 3,
   "metadata": {},
   "outputs": [
    {
     "name": "stdout",
     "output_type": "stream",
     "text": [
      "adilsm version=0.0.12\n"
     ]
    }
   ],
   "source": [
    "from adnmtf import NMF, NTF\n",
    "# from sklearn.decomposition import NMF\n",
    "import pandas as pd\n",
    "import numpy as np\n",
    "from IPython.display import clear_output\n",
    "import time\n",
    "from wordcloud import WordCloud, ImageColorGenerator\n",
    "import matplotlib.pyplot as plt\n",
    "import matplotlib.image as image\n",
    "from matplotlib.colors import ListedColormap\n",
    "import matplotlib.patches as mpatches\n",
    "import distinctipy\n",
    "from matplotlib.patches import Ellipse\n",
    "import matplotlib.transforms as transforms\n",
    "\n",
    "import sys\n",
    "import networkx as nx\n",
    "from sklearn.preprocessing import normalize\n",
    "from sklearn import metrics\n",
    "\n",
    "from mvlearn.datasets import load_UCImultifeature\n",
    "from mvlearn.embed import MVMDS\n",
    "import seaborn as sns\n",
    "from sklearn.decomposition import PCA\n",
    "from sklearn.manifold import MDS\n",
    "from sklearn.cluster import KMeans\n",
    "import umap\n",
    "from scipy.spatial import distance_matrix\n",
    "import hoggorm as ho\n",
    "from sklearn.metrics.cluster import rand_score\n",
    "\n",
    "import adilsm.adilsm as ilsm\n",
    "import os\n",
    "\n",
    "from sklearn.preprocessing import StandardScaler\n",
    "from sklearn.metrics.cluster import rand_score\n",
    "\n",
    "RESULTS_PATH = './results/'\n",
    "DATA_PATH = './data/'"
   ]
  },
  {
   "cell_type": "markdown",
   "metadata": {},
   "source": [
    "Data prep"
   ]
  },
  {
   "cell_type": "code",
   "execution_count": 4,
   "metadata": {},
   "outputs": [
    {
     "name": "stdout",
     "output_type": "stream",
     "text": [
      "There are 4 views.\n",
      "There are 915 observations\n",
      "The feature sizes are: [16, 16, 16, 16]\n"
     ]
    }
   ],
   "source": [
    "df = pd.read_csv(DATA_PATH + 'abis_915.csv', na_values=' ', index_col='gene_id')\n",
    "# df = pd.read_csv(RESULTS_PATH + r'\\abis_915_1000_random_genes.csv', na_values=' ', index_col='gene_id')\n",
    "\n",
    "# df_cell_type_connection = pd.read_csv(RESULTS_PATH + r'cell_type_connection.csv', na_values=' ', index_col='cell_type')\n",
    "# cell_type_connection = df_cell_type_connection.values.astype(np.float_)\n",
    "\n",
    "max_rows = df.iloc[:,1:].apply(lambda x: x.sort_values(ascending=False).values, axis=1, result_type='broadcast').iloc[:,:4].mean(axis=1).values\n",
    "df_norm = df.iloc[np.nonzero(max_rows)[0],1:].divide(max_rows[np.nonzero(max_rows)[0]], axis='rows')\n",
    "\n",
    "list_cell_codes, list_cell_types = pd.factorize(df.iloc[:,0])\n",
    "\n",
    "m0 = df_norm.values.astype(np.float_)\n",
    "# m0_nan_0 = m0.copy()\n",
    "\n",
    "# # create m0_weight with ones and zeros if not_missing/missing value\n",
    "# m0_weight = np.where(np.isnan(m0), 0, 1)\n",
    "# m0_nan_0[np.isnan(m0_nan_0)]=0\n",
    "# df_norm.to_csv(RESULTS_PATH + r'\\abis_915_norm.csv', sep=',', na_rep='.', index=True)\n",
    "\n",
    "list_columns = df.columns[1:].to_list()\n",
    "score_pref = ['9JD4', '925L', 'DZQV', 'G4YW']\n",
    "n_scores = len(score_pref)\n",
    "list_items = df.columns[1:].str[5:].to_list()[0:int((df.shape[1]-1)/n_scores)]\n",
    "\n",
    "n_items = [len(list_items) for i in range(n_scores+1)]\n",
    "Xs=[m0[:,i*n_items[0]:(i+1)*n_items[0]] for i in range(n_scores)]\n",
    "\n",
    "# Check data\n",
    "print(f'There are {len(Xs)} views.')\n",
    "print(f'There are {Xs[0].shape[0]} observations')\n",
    "print(f'The feature sizes are: {[X.shape[1] for X in Xs]}')"
   ]
  },
  {
   "cell_type": "code",
   "execution_count": 5,
   "metadata": {},
   "outputs": [],
   "source": [
    "Xs_norm = Xs.copy()\n",
    "scaler = StandardScaler()\n",
    "for i in range(len(Xs)):\n",
    "    Xs_norm[i] = Xs[i] - np.mean(Xs[i], axis=0)\n",
    "    Xs_norm[i] = scaler.fit_transform(Xs_norm[i])"
   ]
  },
  {
   "cell_type": "code",
   "execution_count": 6,
   "metadata": {},
   "outputs": [],
   "source": [
    "mvmds = MVMDS(n_components=16)\n",
    "Xs_mvmds_reduced = mvmds.fit_transform(Xs)"
   ]
  },
  {
   "cell_type": "code",
   "execution_count": 7,
   "metadata": {},
   "outputs": [
    {
     "name": "stdout",
     "output_type": "stream",
     "text": [
      "[0.83554676 1.4269437  1.85477416 2.23772998 2.51345158 2.72390863\n",
      " 2.91748681 3.06779154 3.19909538 3.32579559 3.43299813 3.49019455\n",
      " 3.54463673 3.58611111 3.61979959 3.65305348]\n"
     ]
    }
   ],
   "source": [
    "Xs_concat = Xs[0]\n",
    "for X in Xs[1:]:\n",
    "    Xs_concat = np.hstack((Xs_concat, X))\n",
    "\n",
    "p = Xs_concat.shape[1]\n",
    "variance_explained = np.zeros(16)\n",
    "\n",
    "for k in range(16):\n",
    "    variance = 0\n",
    "    for i in range(p):\n",
    "        variance += np.var(np.dot(Xs_concat[:,i], Xs_mvmds_reduced[:,k])*Xs_mvmds_reduced[:,k])\n",
    "\n",
    "    if k==0:\n",
    "        variance_explained[k] = variance\n",
    "    else:    \n",
    "        variance_explained[k] = variance_explained[k-1]+variance\n",
    "\n",
    "print(variance_explained)"
   ]
  },
  {
   "cell_type": "markdown",
   "metadata": {},
   "source": [
    "Figures"
   ]
  },
  {
   "cell_type": "code",
   "execution_count": 8,
   "metadata": {},
   "outputs": [
    {
     "data": {
      "image/png": "[encoded data removed]",
      "text/plain": [
       "<Figure size 640x480 with 1 Axes>"
      ]
     },
     "metadata": {},
     "output_type": "display_data"
    }
   ],
   "source": [
    "# Plot the scree plot\n",
    "plt.plot (np.arange(1,17), variance_explained, 'o-', linewidth=2, color='blue')\n",
    "plt.xlabel ('Principal Component')\n",
    "plt.ylabel ('Variance Explained')\n",
    "plt.title ('Scree Plot')\n",
    "plt.grid ()\n",
    "plt.show ()"
   ]
  },
  {
   "cell_type": "code",
   "execution_count": null,
   "metadata": {},
   "outputs": [],
   "source": []
  }
 ],
 "metadata": {
  "kernelspec": {
   "display_name": "Python 3 (ipykernel)",
   "language": "python",
   "name": "python3"
  },
  "language_info": {
   "codemirror_mode": {
    "name": "ipython",
    "version": 3
   },
   "file_extension": ".py",
   "mimetype": "text/x-python",
   "name": "python",
   "nbconvert_exporter": "python",
   "pygments_lexer": "ipython3",
   "version": "3.9.0"
  }
 },
 "nbformat": 4,
 "nbformat_minor": 4
}
