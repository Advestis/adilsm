{
 "cells": [
  {
   "cell_type": "code",
   "execution_count": 1,
   "metadata": {},
   "outputs": [],
   "source": [
    "# !pip install mvlearn==0.5.0 wordcloud==1.9.3 matplotlib==3.3.4 distinctipy==1.3.4 networkx==3.2.1  umap==0.1.1 hoggorm==0.13.3 adilsm==0.0.11 scikit-learn==1.1.2 scipy==1.9.1 numpy==1.23.3\n",
    "# scipy==1.9.1 used (due to changes in SVDS in later versions) to reproduce presented results in ref paper\n",
    "# scikit-learn==1.1.2 used (due to changes in MDS in later versions) to reproduce presented results in ref paper\n",
    "# numpy==1.23.3 used (due to changes in ??? in later versions) to reproduce presented results in ref paper"
   ]
  },
  {
   "cell_type": "code",
   "execution_count": 2,
   "metadata": {},
   "outputs": [],
   "source": [
    "# !pip install -e ..\n",
    "# !pip list"
   ]
  },
  {
   "cell_type": "code",
   "execution_count": 3,
   "metadata": {},
   "outputs": [
    {
     "name": "stdout",
     "output_type": "stream",
     "text": [
      "adilsm version=0.0.12\n",
      "error ism before straightening:  0.14\n",
      "Straightening:\n",
      "iteration 0...\n",
      "iteration 1...\n",
      "iteration 2...\n",
      "iteration 3...\n",
      "error ism after straightening:  0.16\n"
     ]
    },
    {
     "data": {
      "image/png": "[encoded data removed]",
      "text/plain": [
       "<Figure size 1000x500 with 2 Axes>"
      ]
     },
     "metadata": {},
     "output_type": "display_data"
    }
   ],
   "source": [
    "import numpy as np\n",
    "import pandas as pd\n",
    "import matplotlib.pyplot as plt\n",
    "import adilsm.adilsm as ilsm\n",
    "\n",
    "max_noise_level = 0.1\n",
    "# Generate a random non-negative matrix with 100 rows and 10 columns\n",
    "A = np.random.rand(100, 10)\n",
    "# Swap the columns of the A and add some noise to generate B\n",
    "B = np.random.permutation(A.T).T + np.random.uniform(low=0, high=max_noise_level, size=A.shape)\n",
    "# Add noise to A\n",
    "A += np.random.uniform(low=0, high=max_noise_level, size=A.shape)\n",
    "\n",
    "# ISM is expected to recognize that A and B convey the same information up to some noise,\n",
    "# albeit with the columns of B swapped around. Heatmaps of the loadings of A and B columns\n",
    "# on ISM components show the effective permutation. \n",
    "\n",
    "Xs = [A, B]\n",
    "n_embedding, n_themes = [10,10]\n",
    "\n",
    "ilsm_result = ilsm.ism(Xs, n_embedding, n_themes, norm_columns=0, update_h_ism=True,\n",
    "                                    max_iter_mult=200, fast_mult_rules=True, sparsity_coeff=.8)\n",
    "hv = ilsm_result['HV']\n",
    "hv_sparse = ilsm_result['HV_SPARSE']\n",
    "hhii = ilsm_result['HHII']\n",
    "w_ism = ilsm_result['W']\n",
    "h_ism = ilsm_result['H']\n",
    "q_ism = ilsm_result['Q']\n",
    "Xs_emb = ilsm_result['EMBEDDING']\n",
    "Xs_norm = ilsm_result['NORMED_VIEWS']\n",
    "\n",
    "fig, ax = plt.subplots(1, 2, figsize=(10, 5), constrained_layout=True)\n",
    "ax[0].imshow(hv[0], cmap='viridis', aspect='auto')\n",
    "# Add labels and title\n",
    "ax[0].set_xlabel('Component')\n",
    "ax[0].set_ylabel('Column')\n",
    "ax[0].set_title('Loadings of A columns on ISM components')\n",
    "ax[1].imshow(hv[1], cmap='viridis', aspect='auto')\n",
    "# Add labels and title\n",
    "ax[1].set_xlabel('Component')\n",
    "ax[1].set_ylabel('Column')\n",
    "ax[1].set_title('Loadings of B columns on ISM components')\n",
    "\n",
    "# Show the plot\n",
    "plt.show()"
   ]
  },
  {
   "cell_type": "code",
   "execution_count": null,
   "metadata": {},
   "outputs": [],
   "source": []
  }
 ],
 "metadata": {
  "kernelspec": {
   "display_name": "Python 3",
   "language": "python",
   "name": "python3"
  },
  "language_info": {
   "codemirror_mode": {
    "name": "ipython",
    "version": 3
   },
   "file_extension": ".py",
   "mimetype": "text/x-python",
   "name": "python",
   "nbconvert_exporter": "python",
   "pygments_lexer": "ipython3",
   "version": "3.9.0"
  },
  "orig_nbformat": 4
 },
 "nbformat": 4,
 "nbformat_minor": 2
}
